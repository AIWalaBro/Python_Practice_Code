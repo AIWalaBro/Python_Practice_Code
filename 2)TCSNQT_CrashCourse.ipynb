{
  "nbformat": 4,
  "nbformat_minor": 0,
  "metadata": {
    "colab": {
      "provenance": [],
      "authorship_tag": "ABX9TyN/OypC/YQyDxOFRJFpCCCP",
      "include_colab_link": true
    },
    "kernelspec": {
      "name": "python3",
      "display_name": "Python 3"
    },
    "language_info": {
      "name": "python"
    }
  },
  "cells": [
    {
      "cell_type": "markdown",
      "metadata": {
        "id": "view-in-github",
        "colab_type": "text"
      },
      "source": [
        "<a href=\"https://colab.research.google.com/github/AIWalaBro/Python_Practice_Code/blob/main/2)TCSNQT_CrashCourse.ipynb\" target=\"_parent\"><img src=\"https://colab.research.google.com/assets/colab-badge.svg\" alt=\"Open In Colab\"/></a>"
      ]
    },
    {
      "cell_type": "markdown",
      "source": [
        "#1) given positive integer N , print count of sets bit in it:\n",
        "example :\n",
        "input = 6\n",
        "output = 2"
      ],
      "metadata": {
        "id": "OvYTIqv87jCf"
      }
    },
    {
      "cell_type": "code",
      "execution_count": null,
      "metadata": {
        "colab": {
          "base_uri": "https://localhost:8080/"
        },
        "id": "n4HNibDT7Rxy",
        "outputId": "f5306f4f-fc81-4824-bb05-ed7110b9ac8a"
      },
      "outputs": [
        {
          "output_type": "execute_result",
          "data": {
            "text/plain": [
              "2"
            ]
          },
          "metadata": {},
          "execution_count": 6
        }
      ],
      "source": [
        "def sets_bit_counter(n):\n",
        "  count = 0\n",
        "  while n:\n",
        "    n &= (n - 1)\n",
        "    count += 1\n",
        "  return count\n",
        "\n",
        "sets_bit_counter(6)"
      ]
    },
    {
      "cell_type": "code",
      "source": [
        "def count_set_bits(n):\n",
        "  count = 0\n",
        "  while n:\n",
        "    count += n & 1\n",
        "    n >>= 1\n",
        "  return count"
      ],
      "metadata": {
        "id": "8KqR5Jdh8jCq"
      },
      "execution_count": null,
      "outputs": []
    },
    {
      "cell_type": "code",
      "source": [
        "count_set_bits(6)"
      ],
      "metadata": {
        "colab": {
          "base_uri": "https://localhost:8080/"
        },
        "id": "yjFAk0uL9YWH",
        "outputId": "3a79dd6c-ab66-42ac-f925-2eb6dd6b1a2f"
      },
      "execution_count": null,
      "outputs": [
        {
          "output_type": "execute_result",
          "data": {
            "text/plain": [
              "2"
            ]
          },
          "metadata": {},
          "execution_count": 8
        }
      ]
    },
    {
      "cell_type": "markdown",
      "source": [
        "# Factorial problem"
      ],
      "metadata": {
        "id": "VdhfrO2OBWsY"
      }
    },
    {
      "cell_type": "code",
      "source": [
        "def factorial(n):\n",
        "  res = 1\n",
        "  for i in range(2, n+1):\n",
        "    res = res * i\n",
        "  return res\n",
        "\n",
        "factorial(5)"
      ],
      "metadata": {
        "colab": {
          "base_uri": "https://localhost:8080/"
        },
        "id": "UomeWfwf9d7I",
        "outputId": "0cfa9d18-7e92-4e80-9193-5abf7b469ae5"
      },
      "execution_count": null,
      "outputs": [
        {
          "output_type": "execute_result",
          "data": {
            "text/plain": [
              "120"
            ]
          },
          "metadata": {},
          "execution_count": 10
        }
      ]
    },
    {
      "cell_type": "markdown",
      "source": [
        "#Q2)Find the middle of a given linked list in python\n",
        "Given a singly linked list, find the middle of the linked list. For example, if the\n",
        "given linked list is 1->2->3->4->3 Then the output should be 3\n",
        "If there are even nodes, then there would be two middle nodes, we need to print\n",
        "the second middle element. For example, if given linked list is 1->2->3-4>5->6\n",
        "then output should be 4."
      ],
      "metadata": {
        "id": "cjZUeyeo-zZ1"
      }
    },
    {
      "cell_type": "code",
      "source": [
        "class ListNode:\n",
        "    def __init__(self, value):\n",
        "        self.value = value\n",
        "        self.next = None\n",
        "\n",
        "def find_middle(head):\n",
        "    if not head:\n",
        "        return None\n",
        "\n",
        "    female_pointer = head\n",
        "    male_pointer = head\n",
        "\n",
        "    while male_pointer and male_pointer.next:\n",
        "        female_pointer = female_pointer.next\n",
        "        male_pointer = male_pointer.next.next\n",
        "\n",
        "    return female_pointer.value\n",
        "\n",
        "# Example usage:\n",
        "# Create a linked list: 1 -> 2 -> 3 -> 4 -> 5 -> 6\n",
        "head = ListNode(1)\n",
        "head.next = ListNode(2)\n",
        "head.next.next = ListNode(3)\n",
        "\n",
        "result = find_middle(head)\n",
        "print(\"Middle element:\", result)\n"
      ],
      "metadata": {
        "colab": {
          "base_uri": "https://localhost:8080/"
        },
        "id": "UzF7aCniCTuY",
        "outputId": "0f96efdb-e7e1-449c-e69b-369f75aa27c3"
      },
      "execution_count": null,
      "outputs": [
        {
          "output_type": "stream",
          "name": "stdout",
          "text": [
            "Middle element: 2\n"
          ]
        }
      ]
    },
    {
      "cell_type": "markdown",
      "source": [
        "#Q3) extract the sets bit of right most\n",
        "input :- 15\n",
        "output :- 1"
      ],
      "metadata": {
        "id": "MldHFAQHRAop"
      }
    },
    {
      "cell_type": "code",
      "source": [
        "import math\n",
        "def right_most_sets(n):\n",
        "   a = math.log2(n & -n)\n",
        "   a = a+1\n",
        "   return a\n",
        "\n",
        "right_most_sets(12)\n"
      ],
      "metadata": {
        "colab": {
          "base_uri": "https://localhost:8080/"
        },
        "id": "TsEM0isMMx-e",
        "outputId": "913cfbf1-70c8-4e22-d645-c456c551a6ae"
      },
      "execution_count": null,
      "outputs": [
        {
          "output_type": "execute_result",
          "data": {
            "text/plain": [
              "3.0"
            ]
          },
          "metadata": {},
          "execution_count": 8
        }
      ]
    },
    {
      "cell_type": "markdown",
      "source": [
        "# Q4)Given two numbers M and N. The task is to find the position of rightmost different bit in binary representation of numbers.\n",
        "- Input: c\n",
        "Two space separated integers M and N.\n",
        "\n",
        "- Output:\n",
        "- Print the position of rightmost different bit in binary representation of numbers.\n",
        "- Constraints:\n",
        "-- 1 <= M <= 103\n",
        "-- 1 <= N <= 103\n",
        "-- M and N takes different Values\n",
        "- Example:\n",
        "- Input:\n",
        "11 9\n",
        "52 4\n",
        "\n",
        "Output:\n",
        "2\n",
        "5\n"
      ],
      "metadata": {
        "id": "Nr0mtPs5SgKN"
      }
    },
    {
      "cell_type": "code",
      "source": [
        "# create a function\n",
        "import math\n",
        "def Rightmost_diff_setbit(m,n):\n",
        "\n",
        "  # Step1: XOR between m and n value store it into result\n",
        "  result= (m ^ n)\n",
        "\n",
        "  # Step2: binary values of result and its -ve binary value taking amphersand then taking log2\n",
        "  a = math.log2(result & -result)\n",
        "\n",
        "  # step3:- add 1 and return a you will get right most diff.\n",
        "  a = a+1\n",
        "  return a\n"
      ],
      "metadata": {
        "id": "dyuvWKWKRuoX"
      },
      "execution_count": null,
      "outputs": []
    },
    {
      "cell_type": "code",
      "source": [
        "Rightmost_diff_setbit(52,4)"
      ],
      "metadata": {
        "colab": {
          "base_uri": "https://localhost:8080/"
        },
        "id": "-DtQCqZ8Ws0v",
        "outputId": "d17ecd44-f776-4e22-bdc5-dbafcd1c78af"
      },
      "execution_count": null,
      "outputs": [
        {
          "output_type": "execute_result",
          "data": {
            "text/plain": [
              "5.0"
            ]
          },
          "metadata": {},
          "execution_count": 15
        }
      ]
    },
    {
      "cell_type": "markdown",
      "source": [
        "#Q5) Given two positive integers num1 and num2, the task is to find the remainder when num1 is divided by num2.\n",
        "Example 1:\n",
        "- Input:\n",
        "\n",
        "      num1 = 5\n",
        "      num2 = 3\n",
        "- Output:\n",
        "      2\n",
        "- Explanation:\n",
        "The remainder after dividing 5 by 3 is: 2.\n",
        "- Example 2:\n",
        "\n",
        "- Input:\n",
        "\n",
        "      num1 = 5\n",
        "      num2 = 10\n",
        "Output:\n",
        "  \n",
        "      5\n",
        "Explanation:\n",
        "5 cannot be divided by 10 so it is\n",
        "the Remainder.\n"
      ],
      "metadata": {
        "id": "OYUCFVUiY85W"
      }
    },
    {
      "cell_type": "markdown",
      "source": [
        "### method 1)"
      ],
      "metadata": {
        "id": "tH6e3UeEbeNs"
      }
    },
    {
      "cell_type": "code",
      "source": [
        "def find_remainder(m,n):\n",
        "   res = m%n\n",
        "   return res\n",
        "\n",
        "find_remainder(5,10)\n",
        "\n",
        "# small number divided by large number then smaller number remain"
      ],
      "metadata": {
        "colab": {
          "base_uri": "https://localhost:8080/"
        },
        "id": "wsH3KFaUW6AA",
        "outputId": "58561c8a-5995-426c-fb56-1b9740b5c428"
      },
      "execution_count": null,
      "outputs": [
        {
          "output_type": "execute_result",
          "data": {
            "text/plain": [
              "5"
            ]
          },
          "metadata": {},
          "execution_count": 16
        }
      ]
    },
    {
      "cell_type": "code",
      "source": [
        "find_remainder(5,3)"
      ],
      "metadata": {
        "colab": {
          "base_uri": "https://localhost:8080/"
        },
        "id": "uBnoUG8BZ4Bb",
        "outputId": "621861a6-170a-4073-e582-2b8bea2c9e51"
      },
      "execution_count": null,
      "outputs": [
        {
          "output_type": "execute_result",
          "data": {
            "text/plain": [
              "2"
            ]
          },
          "metadata": {},
          "execution_count": 17
        }
      ]
    },
    {
      "cell_type": "markdown",
      "source": [
        "###method2)"
      ],
      "metadata": {
        "id": "BYUhThI8bhj-"
      }
    },
    {
      "cell_type": "code",
      "source": [
        "def get_remainder(num, divisior):\n",
        "  remainder = (num - divisior*(num/divisior))\n",
        "  return remainder\n",
        "\n",
        "# not sure  we have to wrok upon it"
      ],
      "metadata": {
        "id": "XwonjlwMafOI"
      },
      "execution_count": null,
      "outputs": []
    },
    {
      "cell_type": "code",
      "source": [
        "get_remainder(11,2)"
      ],
      "metadata": {
        "colab": {
          "base_uri": "https://localhost:8080/"
        },
        "id": "PmITpW9Lc3k3",
        "outputId": "b7488150-d3d5-49fc-ec31-0bcbac250e0c"
      },
      "execution_count": null,
      "outputs": [
        {
          "output_type": "execute_result",
          "data": {
            "text/plain": [
              "0.0"
            ]
          },
          "metadata": {},
          "execution_count": 25
        }
      ]
    },
    {
      "cell_type": "markdown",
      "source": [
        "### method3)\n",
        "\n",
        "\n",
        "\n"
      ],
      "metadata": {
        "id": "fyQJz7FqhNZD"
      }
    },
    {
      "cell_type": "code",
      "source": [
        "def getremainder(num, divisior):\n",
        "  product = 0\n",
        "  i = 1\n",
        "  while product <= 26:\n",
        "     product = divisior * i\n",
        "     i += 1\n",
        "\n",
        "  return num - (product - divisior)\n",
        "\n"
      ],
      "metadata": {
        "id": "ZWUQ5i-IdztN"
      },
      "execution_count": null,
      "outputs": []
    },
    {
      "cell_type": "code",
      "source": [
        "getremainder(26,4)"
      ],
      "metadata": {
        "colab": {
          "base_uri": "https://localhost:8080/"
        },
        "id": "mKutUTbEh3dI",
        "outputId": "8e83cd42-547f-4d43-ca23-f386b1d00c38"
      },
      "execution_count": null,
      "outputs": [
        {
          "output_type": "execute_result",
          "data": {
            "text/plain": [
              "2"
            ]
          },
          "metadata": {},
          "execution_count": 30
        }
      ]
    },
    {
      "cell_type": "markdown",
      "source": [
        "#6) Find leap year"
      ],
      "metadata": {
        "id": "4_PLiYJUCkzV"
      }
    },
    {
      "cell_type": "code",
      "source": [
        "def find_leap_year(year):\n",
        "  if year%400 == 0:\n",
        "    print('this is leap year which is divisible by 400')\n",
        "    return 1\n",
        "\n",
        "  if year%100 == 0:\n",
        "    print('this is leap year which is divisible by 400 also divisible by 100 because it century')\n",
        "    return 0\n",
        "  if year%4 == 0:\n",
        "    print('this is leap year which is divisible by 4 and its not an century')\n",
        "    return 1\n",
        "\n",
        "  print('this is non leap year')\n",
        "  return 0\n",
        "\n",
        "find_leap_year(2000)"
      ],
      "metadata": {
        "id": "ZCgZq2L1h_xg",
        "colab": {
          "base_uri": "https://localhost:8080/"
        },
        "outputId": "2a5dbeb0-6198-4a22-b5f6-a6cfe769b149"
      },
      "execution_count": 10,
      "outputs": [
        {
          "output_type": "stream",
          "name": "stdout",
          "text": [
            "this is leap year which is divisible by 400\n"
          ]
        },
        {
          "output_type": "execute_result",
          "data": {
            "text/plain": [
              "1"
            ]
          },
          "metadata": {},
          "execution_count": 10
        }
      ]
    },
    {
      "cell_type": "markdown",
      "source": [
        "#Q7)\n",
        "Jetha like chocolates and he loves to try different ones. There are N shops in a market labelled from 1 to N and\n",
        "each shop offers a different variety of chocolate. Jetha starts from ith shop and goes ahead to each and every\n",
        "shop. But as there are too many shops Midori would like to know how many more shops he has to visit. You have\n",
        "been given L denoting number of bits required to represent N. You need to return the maximum number of shops\n",
        "he\n",
        "\n",
        "Example 1:\n",
        "\n",
        "Input: i = 2, L = 3\n",
        "Output: 6\n",
        "Explanation: There are 3 bits So N = 8\n",
        "Hence Jetha can visit 8 - 2 = 6 more shops.\n",
        "\n",
        "Example 2:\n",
        "\n",
        "Input: i = 1, L = 2\n",
        "Output: 3\n",
        "Explanation: There are 2 bits so N = 4\n",
        "Hence Jetha can visit 4 - 1 = 3 more shops.\n"
      ],
      "metadata": {
        "id": "Wl9XUB9ZlIqw"
      }
    },
    {
      "cell_type": "code",
      "source": [
        "# 2 ka power i se solve krna hai aap ko yeah pta krna hai ki agar mami kisi dukan ke pas khda hu\n",
        "# aur muse kitni dukane aur aage jana hai aur aapko n ki value pta hai toh kaise nikaloge\n",
        "\n",
        "def jeta_visit_shops(i,j):\n",
        "  k = (2**i - j)\n",
        "  return k\n",
        "\n",
        "jeta_visit_shops(3,3)\n",
        "\n",
        "# 2 ka power 2 matalab =8 aur 8-3 = 5 times aur aage jana pdega jetha laal ko"
      ],
      "metadata": {
        "colab": {
          "base_uri": "https://localhost:8080/"
        },
        "id": "Cw2iq_lVlhHQ",
        "outputId": "d94d16bd-d84c-4172-8301-7d954e60b963"
      },
      "execution_count": 3,
      "outputs": [
        {
          "output_type": "execute_result",
          "data": {
            "text/plain": [
              "5"
            ]
          },
          "metadata": {},
          "execution_count": 3
        }
      ]
    },
    {
      "cell_type": "markdown",
      "source": [
        "# Q8)\n",
        "Write a program to merge two sorted arrays, the\n",
        "idea is to take two sorted arrays and merge them\n",
        "such that the resultant array is also sorted."
      ],
      "metadata": {
        "id": "NdThcT_WQ1o9"
      }
    },
    {
      "cell_type": "code",
      "source": [
        "def merge_sorted_arrays(arr1, arr2):\n",
        "    merged_array = []\n",
        "    i = 0  # Pointer for arr1\n",
        "    j = 0  # Pointer for arr2\n",
        "\n",
        "    while i < len(arr1) and j < len(arr2):\n",
        "        if arr1[i] < arr2[j]:\n",
        "            merged_array.append(arr1[i])\n",
        "            i += 1\n",
        "        else:\n",
        "            merged_array.append(arr2[j])\n",
        "            j += 1\n",
        "\n",
        "    # If there are remaining elements in arr1 or arr2, add them to merged_array\n",
        "    while i < len(arr1):\n",
        "        merged_array.append(arr1[i])\n",
        "        i += 1\n",
        "\n",
        "    while j < len(arr2):\n",
        "        merged_array.append(arr2[j])\n",
        "        j += 1\n",
        "\n",
        "    return merged_array\n",
        "\n",
        "# Example usage:\n",
        "arr1 = [1, 3, 5, 7]\n",
        "arr2 = [2, 4, 6, 8]\n",
        "merged_result = merge_sorted_arrays(arr1, arr2)\n",
        "print(\"Merged Sorted Array:\", merged_result)\n"
      ],
      "metadata": {
        "colab": {
          "base_uri": "https://localhost:8080/"
        },
        "id": "vtD-4E2Zmi8b",
        "outputId": "fd7f74fb-7fdd-4c89-8850-6c922bee0192"
      },
      "execution_count": 1,
      "outputs": [
        {
          "output_type": "stream",
          "name": "stdout",
          "text": [
            "Merged Sorted Array: [1, 2, 3, 4, 5, 6, 7, 8]\n"
          ]
        }
      ]
    },
    {
      "cell_type": "markdown",
      "source": [
        "#Q9) greatest commmon divisor\n",
        "input:- 28,20\n",
        "- ouput:- 4"
      ],
      "metadata": {
        "id": "ZhGVubT-VtZ7"
      }
    },
    {
      "cell_type": "code",
      "source": [
        "def gcd(a,b):\n",
        "  if a == 0:\n",
        "    return b\n",
        "\n",
        "  if b == 0:\n",
        "    return a\n",
        "  if a == b:\n",
        "    return a\n",
        "  if a > b:\n",
        "    return gcd(a-b, b)\n",
        "  return gcd(a, b-a)\n",
        "\n",
        "\n",
        "gcd(28,20)"
      ],
      "metadata": {
        "colab": {
          "base_uri": "https://localhost:8080/"
        },
        "id": "9wXBxXVJQxlv",
        "outputId": "0b070809-5395-4934-f498-18f88419fb37"
      },
      "execution_count": 4,
      "outputs": [
        {
          "output_type": "execute_result",
          "data": {
            "text/plain": [
              "4"
            ]
          },
          "metadata": {},
          "execution_count": 4
        }
      ]
    },
    {
      "cell_type": "markdown",
      "source": [
        "#Q10)\n",
        "Write a program in python to find GCD of two numbers\n",
        "Input : two +ve integers separated by space\n",
        "Output : +ve integer which is GCD of two numbers\n",
        "Public Test Cases\n",
        "Input: 20 28\n",
        "Output: 4\n",
        "Input: 98 56\n",
        "Output: 14"
      ],
      "metadata": {
        "id": "XFcGIMDxZdkT"
      }
    },
    {
      "cell_type": "code",
      "source": [
        "# Function to calculate the GCD using the Euclidean algorithm\n",
        "def gcd(a, b):\n",
        "    while b:\n",
        "        a, b = b, a % b\n",
        "    return a\n",
        "\n",
        "# Input two positive integers separated by space\n",
        "input_str = input(\"Enter two positive integers separated by space: \")\n",
        "try:\n",
        "    num1, num2 = map(int, input_str.split())\n",
        "    if num1 > 0 and num2 > 0:\n",
        "        result = gcd(num1, num2)\n",
        "        print(\"GCD of\", num1, \"and\", num2, \"is:\", result)\n",
        "    else:\n",
        "        print(\"Both numbers must be positive integers.\")\n",
        "except ValueError:\n",
        "    print(\"Invalid input. Please enter two positive integers separated by space.\")\n"
      ],
      "metadata": {
        "colab": {
          "base_uri": "https://localhost:8080/"
        },
        "id": "KWBHrp5VZqQ2",
        "outputId": "fcb2f02f-1998-4ade-c4ba-ccaf1d402026"
      },
      "execution_count": 5,
      "outputs": [
        {
          "output_type": "stream",
          "name": "stdout",
          "text": [
            "Enter two positive integers separated by space: 28 20\n",
            "GCD of 28 and 20 is: 4\n"
          ]
        }
      ]
    },
    {
      "cell_type": "markdown",
      "source": [
        "# Q11)To calculate the Least Common Multiple (LCM) of two numbers using Python, you can use the formula:\n",
        "\n",
        "LCM(a, b) = (a * b) / GCD(a, b)\n",
        "\n",
        "You already have the code to calculate the GCD using the Euclidean algorithm. You can modify the code to calculate the LCM as follows:"
      ],
      "metadata": {
        "id": "uqJE49W-anUc"
      }
    },
    {
      "cell_type": "code",
      "source": [
        "# Function to calculate the GCD using the Euclidean algorithm\n",
        "def gcd(a, b):\n",
        "    while b:\n",
        "        a, b = b, a % b\n",
        "    return a\n",
        "\n",
        "# Function to calculate the LCM of two numbers\n",
        "def lcm(a, b):\n",
        "    return (a * b) // gcd(a, b)  # Using the GCD to calculate LCM\n",
        "\n",
        "# Input two positive integers separated by space\n",
        "input_str = input(\"Enter two positive integers separated by space: \")\n",
        "try:\n",
        "    num1, num2 = map(int, input_str.split())\n",
        "    if num1 > 0 and num2 > 0:\n",
        "        result = lcm(num1, num2)\n",
        "        print(\"LCM of\", num1, \"and\", num2, \"is:\", result)\n",
        "    else:\n",
        "        print(\"Both numbers must be positive integers.\")\n",
        "except ValueError:\n",
        "    print(\"Invalid input. Please enter two positive integers separated by space.\")\n"
      ],
      "metadata": {
        "colab": {
          "base_uri": "https://localhost:8080/"
        },
        "id": "awQP4oXAZ8Ha",
        "outputId": "1c78fb2a-25ff-4459-9f12-f385420a78fc"
      },
      "execution_count": 7,
      "outputs": [
        {
          "output_type": "stream",
          "name": "stdout",
          "text": [
            "Enter two positive integers separated by space: 28 20 \n",
            "LCM of 28 and 20 is: 140\n"
          ]
        }
      ]
    },
    {
      "cell_type": "markdown",
      "source": [
        "#Q12) Program to add two fractions and display their sum in reduced form\n",
        "Public Test cases:\n",
        "Input: 1 2 3 2\n",
        "Output: 2 1\n",
        "\n",
        "Input: 1 3 3 9\n",
        "Output: 2 3"
      ],
      "metadata": {
        "id": "dElzZq_hnjNA"
      }
    },
    {
      "cell_type": "code",
      "source": [
        "from math import gcd\n",
        "\n",
        "# Function to find the least common multiple (LCM) of two numbers\n",
        "def lcm(a, b):\n",
        "    return (a * b) // gcd(a, b)\n",
        "\n",
        "# Function to reduce a fraction to its simplest form\n",
        "def reduce_fraction(numerator, denominator):\n",
        "    common_divisor = gcd(numerator, denominator)\n",
        "    reduced_numerator = numerator // common_divisor\n",
        "    reduced_denominator = denominator // common_divisor\n",
        "    return reduced_numerator, reduced_denominator\n",
        "\n",
        "# Input two fractions as four integers separated by space\n",
        "input_str = input(\"Enter two fractions as four integers separated by space (num1 den1 num2 den2): \")\n",
        "try:\n",
        "    num1, den1, num2, den2 = map(int, input_str.split())\n",
        "\n",
        "    # Calculate the sum of the fractions\n",
        "    common_denominator = lcm(den1, den2)\n",
        "    sum_numerator = num1 * (common_denominator // den1) + num2 * (common_denominator // den2)\n",
        "\n",
        "    # Reduce the result to its simplest form\n",
        "    reduced_numerator, reduced_denominator = reduce_fraction(sum_numerator, common_denominator)\n",
        "\n",
        "    print(\"Sum of fractions in reduced form:\", reduced_numerator, reduced_denominator)\n",
        "except ValueError:\n",
        "    print(\"Invalid input. Please enter four integers separated by space.\")\n"
      ],
      "metadata": {
        "colab": {
          "base_uri": "https://localhost:8080/"
        },
        "id": "5EWqoj6Kn4BI",
        "outputId": "5ee0d2ee-4366-418f-dd08-c0c4babd0228"
      },
      "execution_count": 14,
      "outputs": [
        {
          "output_type": "stream",
          "name": "stdout",
          "text": [
            "Enter two fractions as four integers separated by space (num1 den1 num2 den2): 1 3 3 9\n",
            "Sum of fractions in reduced form: 2 3\n"
          ]
        }
      ]
    },
    {
      "cell_type": "markdown",
      "source": [
        "# Q13)\n",
        "Write a program to find the number of\n",
        "integers with exactly 9 divisors\n",
        "Public Test cases:\n",
        ",100\n",
        "Input:\n",
        "100.\n",
        "Output:\n",
        "2\n",
        "36 100\n",
        "Divisors of 36 = 1, 2, 3, 4, 6, 9, 12, 18, 36\n",
        "Divisors of 100 = 1, 2, 4, 5, 10, 20, 25, 50, 100"
      ],
      "metadata": {
        "id": "9xBKGONeo8ko"
      }
    },
    {
      "cell_type": "code",
      "source": [
        "# Function to count the number of divisors of a given number\n",
        "def count_divisors(num):\n",
        "    count = 0\n",
        "    for i in range(1, int(num**0.5) + 1):\n",
        "        if num % i == 0:\n",
        "            count += 2 if i != num // i else 1\n",
        "    return count\n",
        "\n",
        "# Input a positive integer\n",
        "n = int(input(\"Enter a positive integer: \"))\n",
        "\n",
        "count = 0\n",
        "\n",
        "# Find numbers with exactly 9 divisors\n",
        "for num in range(1, n + 1):\n",
        "    if count_divisors(num) == 9:\n",
        "        count += 1\n",
        "        print(num, end=\" \")\n",
        "\n",
        "print(\"\\nNumber of integers with exactly 9 divisors:\", count)\n"
      ],
      "metadata": {
        "colab": {
          "base_uri": "https://localhost:8080/"
        },
        "id": "mxNEq8CpoaME",
        "outputId": "da2e0944-cf55-4b01-cb5c-cd25222c9519"
      },
      "execution_count": 15,
      "outputs": [
        {
          "output_type": "stream",
          "name": "stdout",
          "text": [
            "Enter a positive integer: 100\n",
            "36 100 \n",
            "Number of integers with exactly 9 divisors: 2\n"
          ]
        }
      ]
    },
    {
      "cell_type": "markdown",
      "source": [
        "#Q14)\n",
        "Given we postave integers N and x, where N is the number of total patients and X is the\n",
        "time duration(in minutes) after which a new patient arrives. Also, doctor will give only 10\n",
        "minutes to each patient. The task is to calculate the time (in minutes) the last patient needs\n",
        "to wait.\n",
        "\n",
        "Input:\n",
        "The input denote the total number of patients N and time interval X(in minutes) in which the\n",
        "next patients are visiting.\n",
        "\n",
        "\n",
        "Output:\n",
        "Output the waiting time of last patient.\n",
        "\n",
        "Public test cases\n",
        "\n",
        "Input 4 5\n",
        "\n",
        "Output 15\n",
        "\n",
        "Input 5 3\n",
        "\n",
        "Output 28\n"
      ],
      "metadata": {
        "id": "Bapo_1Z1q4nM"
      }
    },
    {
      "cell_type": "code",
      "source": [
        "# Input\n",
        "N, X = map(int, input().split())\n",
        "\n",
        "# Calculate the waiting time for the last patient\n",
        "wait_time = (10 - X) * (N - 1)\n",
        "\n",
        "# Output the result\n",
        "print(wait_time)\n"
      ],
      "metadata": {
        "colab": {
          "base_uri": "https://localhost:8080/"
        },
        "id": "Yf8GAgiTv5Ns",
        "outputId": "eaed5cdf-809a-4d34-fb77-f04fa7d6065b"
      },
      "execution_count": 33,
      "outputs": [
        {
          "output_type": "stream",
          "name": "stdout",
          "text": [
            "5 3\n",
            "28\n"
          ]
        }
      ]
    },
    {
      "cell_type": "markdown",
      "source": [
        "Q15) Write a program to reverse a string without using inbuilt string reverse library functions"
      ],
      "metadata": {
        "id": "yrGlJTHNxcZ1"
      }
    },
    {
      "cell_type": "code",
      "source": [
        "# spcae complexity order (1)\n",
        "# Function to reverse a string in-place\n",
        "\n",
        "def reverse_string_in_place(char_array):\n",
        "    left, right = 0, len(char_array) - 1\n",
        "    while left < right:\n",
        "        char_array[left], char_array[right] = char_array[right], char_array[left]\n",
        "        left += 1\n",
        "        right -= 1\n",
        "\n",
        "# Input string\n",
        "input_str = list(input(\"Enter a string: \"))  # Convert the input string to a list of characters\n",
        "\n",
        "# Reverse the string in-place\n",
        "reverse_string_in_place(input_str)\n",
        "\n",
        "# Convert the list of characters back to a string\n",
        "reversed_str = \"\".join(input_str)\n",
        "\n",
        "# Output the reversed string\n",
        "print(\"Reversed string:\", reversed_str)\n"
      ],
      "metadata": {
        "colab": {
          "base_uri": "https://localhost:8080/"
        },
        "id": "d1f37O8dwXZf",
        "outputId": "a87daf99-9e0f-4035-a027-42fd6359a18a"
      },
      "execution_count": 34,
      "outputs": [
        {
          "output_type": "stream",
          "name": "stdout",
          "text": [
            "Enter a string: single\n",
            "Reversed string: elgnis\n"
          ]
        }
      ]
    },
    {
      "cell_type": "code",
      "source": [
        "# space complexity order(n)\n",
        "# Function to reverse a string\n",
        "\n",
        "def reverse_string(input_str):\n",
        "    reversed_str = \"\"\n",
        "    for char in input_str:\n",
        "        reversed_str = char + reversed_str\n",
        "    return reversed_str\n",
        "\n",
        "# Input string\n",
        "input_str = input(\"Enter a string: \")\n",
        "\n",
        "# Reverse the string\n",
        "reversed_str = reverse_string(input_str)\n",
        "\n",
        "# Output the reversed string\n",
        "print(\"Reversed string:\", reversed_str)\n"
      ],
      "metadata": {
        "colab": {
          "base_uri": "https://localhost:8080/"
        },
        "id": "CDdGnFZ2y3io",
        "outputId": "e7190557-c16d-4f09-896a-4a694f86864f"
      },
      "execution_count": 35,
      "outputs": [
        {
          "output_type": "stream",
          "name": "stdout",
          "text": [
            "Enter a string: bring\n",
            "Reversed string: gnirb\n"
          ]
        }
      ]
    },
    {
      "cell_type": "markdown",
      "source": [
        "#Q16)\n",
        "MS Excel columns have a pattern like A, B, C, ..., Z, AA, AB, AC, ...., AZ, BA, BB, ...\n",
        "ZZ, AAA. AAB ... etc. In other words, column 1 is named as \"A\", column 2 as \"B\",\n",
        "column 27 as \"AA\"\n",
        "Given a column number, find its corresponding Excel column name. The following are\n",
        "more examples.\n",
        "\n",
        "\n",
        "Input\n",
        "26\n",
        "51\n",
        "52\n",
        "80\n",
        "676\n",
        "702\n",
        "705\n",
        "\n",
        "\n",
        "Output\n",
        "Z\n",
        "AY\n",
        "AZ\n",
        "СВ\n",
        "YZ\n",
        "ZZ\n",
        "AAC"
      ],
      "metadata": {
        "id": "EnXC6QhTzdio"
      }
    },
    {
      "cell_type": "code",
      "source": [
        "def convert_to_excel_column_name(column_number):\n",
        "    result = \"\"\n",
        "    while column_number > 0:\n",
        "        remainder = (column_number - 1) % 26  # Adjust for 1-based indexing\n",
        "        result = chr(ord('A') + remainder) + result\n",
        "        column_number = (column_number - 1) // 26  # Integer division\n",
        "    return result\n",
        "\n",
        "# Test cases\n",
        "column_numbers = [26, 51, 52, 80, 676, 702, 705]\n",
        "\n",
        "for column_number in column_numbers:\n",
        "    excel_column_name = convert_to_excel_column_name(column_number)\n",
        "    print(excel_column_name)\n"
      ],
      "metadata": {
        "colab": {
          "base_uri": "https://localhost:8080/"
        },
        "id": "EX8cHPDUzFIL",
        "outputId": "e8ac8808-dd8d-4df6-b1a6-8f23792787dd"
      },
      "execution_count": 36,
      "outputs": [
        {
          "output_type": "stream",
          "name": "stdout",
          "text": [
            "Z\n",
            "AY\n",
            "AZ\n",
            "CB\n",
            "YZ\n",
            "ZZ\n",
            "AAC\n"
          ]
        }
      ]
    },
    {
      "cell_type": "markdown",
      "source": [
        "Given a string S that represents column title of an Excel sheet, find the number\n",
        "that represents that column.\n",
        "In excel A column is number 1, AA is 27 and so on.\n",
        "Input:\n",
        "' Constraints:\n",
        "1 ≤ ISI <=7\n",
        "A single line of input containing string S.\n",
        "Output:\n",
        "Print the column number.\n",
        "\n",
        "Example:\n",
        "Input\n",
        "A\n",
        "AA\n",
        "Output\n",
        "1\n",
        "27"
      ],
      "metadata": {
        "id": "lUeDMKHx5nrY"
      }
    },
    {
      "cell_type": "code",
      "source": [
        "def excel_column_to_number(column_title):\n",
        "    column_number = 0\n",
        "    for char in column_title:\n",
        "        column_number = column_number * 26 + (ord(char) - ord('A') + 1)\n",
        "    return column_number\n",
        "\n",
        "# Input\n",
        "column_title = input()\n",
        "\n",
        "# Convert to column number\n",
        "column_number = excel_column_to_number(column_title)\n",
        "\n",
        "# Output the column number\n",
        "print(column_number)\n",
        "\n"
      ],
      "metadata": {
        "colab": {
          "base_uri": "https://localhost:8080/"
        },
        "id": "SN8q5NGf5GSI",
        "outputId": "cc256432-ae31-4e93-b44f-66e1e0a0339b"
      },
      "execution_count": 43,
      "outputs": [
        {
          "output_type": "stream",
          "name": "stdout",
          "text": [
            "AAA\n",
            "703\n"
          ]
        }
      ]
    },
    {
      "cell_type": "markdown",
      "source": [
        "Lohia, Gos and Prince are footballers. Lohia and Gos are strikers while Prince is a goalkeeper. You as the\n",
        "coach held a practice session of penalty shootouts to improve the performance of the strikers. Your task is to\n",
        "find the maximum goal scorer between the two.\n",
        "Lona, Gosu and Prince energy is denoted by X, Y and Z respectively. For every goal scored the energy of the\n",
        "respective player is decreased by 1 and after every save Prince energy is decreased by 1. Strikers will be able\n",
        "to score the goal if Prince energy is a factor of their energy otherwise not.\n",
        "The session ends when Prince's energy reaches 1.\n",
        "Assume same player can try for goals repeatedly and they both try to increase number of goals in totality. Lohia\n",
        "being a junior player is always favoured for penalty kick.\n",
        "\n",
        "\n",
        "Input:\n",
        "\n",
        "The first line of input contains an integer T denoting the number of test cases. Each test case contains energy 3\n",
        "integers X, Y & Z, denoting the energies respectively.\n",
        "\n",
        "\n",
        "Output:\n",
        "For each test case print the number of goals scored by Lohia and Gos respectively."
      ],
      "metadata": {
        "id": "1gI6b2hw6gGE"
      }
    },
    {
      "cell_type": "code",
      "source": [
        "penalty_shootout(14,8,5)"
      ],
      "metadata": {
        "colab": {
          "base_uri": "https://localhost:8080/"
        },
        "id": "TY6ikNbA9Vkt",
        "outputId": "31bef1a6-93ae-42ee-ebc5-6acb51735671"
      },
      "execution_count": 52,
      "outputs": [
        {
          "output_type": "execute_result",
          "data": {
            "text/plain": [
              "(0, 0)"
            ]
          },
          "metadata": {},
          "execution_count": 52
        }
      ]
    },
    {
      "cell_type": "code",
      "source": [
        "def penalty_shootout(lohia_energy, gos_energy, prince_energy):\n",
        "  \"\"\"\n",
        "  Finds the maximum goal scorer between Lohia and Gos in a penalty shootout.\n",
        "\n",
        "  Args:\n",
        "    lohia_energy: The energy of Lohia.\n",
        "    gos_energy: The energy of Gos.\n",
        "    prince_energy: The energy of Prince.\n",
        "\n",
        "  Returns:\n",
        "    A tuple of the (number of goals scored by Lohia, number of goals scored by Gos).\n",
        "  \"\"\"\n",
        "  lohia_score = 0\n",
        "  gos_score = 0\n",
        "  while prince_energy > 1:\n",
        "    if lohia_energy > 0 and lohia_energy >= prince_energy:\n",
        "      lohia_score += 1\n",
        "      lohia_energy -= prince_energy\n",
        "    else:\n",
        "      prince_energy -= 1\n",
        "    if gos_energy > 0 and gos_energy >= prince_energy:\n",
        "      gos_score += 1\n",
        "      gos_energy -= prince_energy\n",
        "    else:\n",
        "      prince_energy -= 1\n",
        "  return lohia_score, gos_score\n",
        "\n",
        "result = penalty_shootout(10, 5, 5)\n",
        "print(result)  # Output: (2, 1)\n"
      ],
      "metadata": {
        "colab": {
          "base_uri": "https://localhost:8080/"
        },
        "id": "fD-LkwCuTxVg",
        "outputId": "1ed29377-c6a5-48ca-fb90-28735c707d6e"
      },
      "execution_count": 70,
      "outputs": [
        {
          "output_type": "stream",
          "name": "stdout",
          "text": [
            "(2, 1)\n"
          ]
        }
      ]
    },
    {
      "cell_type": "code",
      "source": [
        "def penalty_shootout(lohia_energy, gos_energy, prince_energy):\n",
        "  \"\"\"\n",
        "  Finds the maximum goal scorer between Lohia and Gos in a penalty shootout.\n",
        "\n",
        "  Args:\n",
        "    lohia_energy: The energy of Lohia.\n",
        "    gos_energy: The energy of Gos.\n",
        "    prince_energy: The energy of Prince.\n",
        "\n",
        "  Returns:\n",
        "    A tuple of the (number of goals scored by Lohia, number of goals scored by Gos).\n",
        "  \"\"\"\n",
        "  lohia_score = 0\n",
        "  gos_score = 0\n",
        "  while prince_energy > 1:\n",
        "    if lohia_energy >= prince_energy:\n",
        "      lohia_score += 1\n",
        "      lohia_energy -= prince_energy\n",
        "    else:\n",
        "      prince_energy -= 1\n",
        "    if gos_energy >= prince_energy:\n",
        "      gos_score += 1\n",
        "      gos_energy -= prince_energy\n",
        "    else:\n",
        "      prince_energy -= 1\n",
        "  return lohia_score, gos_score\n",
        "\n",
        "result = penalty_shootout(10, 5, 5)\n",
        "print(result)  # Output: (2, 1)\n"
      ],
      "metadata": {
        "colab": {
          "base_uri": "https://localhost:8080/"
        },
        "id": "ClY7paC3UMvu",
        "outputId": "e63e7456-fdc6-41a0-da44-a040795cbfe1"
      },
      "execution_count": 71,
      "outputs": [
        {
          "output_type": "stream",
          "name": "stdout",
          "text": [
            "(2, 1)\n"
          ]
        }
      ]
    },
    {
      "cell_type": "code",
      "source": [],
      "metadata": {
        "id": "evbCQbOhUfb8"
      },
      "execution_count": null,
      "outputs": []
    }
  ]
}