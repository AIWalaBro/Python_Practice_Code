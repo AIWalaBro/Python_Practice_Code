{
  "nbformat": 4,
  "nbformat_minor": 0,
  "metadata": {
    "colab": {
      "provenance": [],
      "authorship_tag": "ABX9TyPjLdXZjD/623FHZRW/aIOd",
      "include_colab_link": true
    },
    "kernelspec": {
      "name": "python3",
      "display_name": "Python 3"
    },
    "language_info": {
      "name": "python"
    }
  },
  "cells": [
    {
      "cell_type": "markdown",
      "metadata": {
        "id": "view-in-github",
        "colab_type": "text"
      },
      "source": [
        "<a href=\"https://colab.research.google.com/github/AIWalaBro/Python_Practice_Code/blob/main/1_TCS_NQT.ipynb\" target=\"_parent\"><img src=\"https://colab.research.google.com/assets/colab-badge.svg\" alt=\"Open In Colab\"/></a>"
      ]
    },
    {
      "cell_type": "markdown",
      "source": [
        "# factorial problem\n"
      ],
      "metadata": {
        "id": "m-FtlidaQ_lf"
      }
    },
    {
      "cell_type": "code",
      "execution_count": null,
      "metadata": {
        "colab": {
          "base_uri": "https://localhost:8080/"
        },
        "id": "aftmzFSCQ59U",
        "outputId": "cce697a4-9760-4408-d00c-6e62279649ca"
      },
      "outputs": [
        {
          "output_type": "execute_result",
          "data": {
            "text/plain": [
              "120"
            ]
          },
          "metadata": {},
          "execution_count": 20
        }
      ],
      "source": [
        "# by using for loop\n",
        "def factorial(n):\n",
        "  res = 1\n",
        "  for i in range(2, n+1):\n",
        "    res = res * i\n",
        "  return res\n",
        "\n",
        "n = 5\n",
        "result = factorial(n)\n",
        "result"
      ]
    },
    {
      "cell_type": "code",
      "source": [
        "# by using while loop\n",
        "def factorial(n):\n",
        "  if (n==0):\n",
        "    return 1\n",
        "\n",
        "\n",
        "  i = n\n",
        "  fact = 1\n",
        "  while(n/i != n):\n",
        "    fact = fact * i\n",
        "    i -= 1\n",
        "  return fact\n",
        "\n",
        "num = 5\n",
        "print('factorial of', num, 'is')\n",
        "factorial(num)\n",
        "\n",
        "\n",
        "\n"
      ],
      "metadata": {
        "colab": {
          "base_uri": "https://localhost:8080/"
        },
        "id": "aEM5mzQfd19L",
        "outputId": "889a02b8-b942-41ec-b353-387ac52f25ae"
      },
      "execution_count": null,
      "outputs": [
        {
          "output_type": "stream",
          "name": "stdout",
          "text": [
            "factorial of 5 is\n"
          ]
        },
        {
          "output_type": "execute_result",
          "data": {
            "text/plain": [
              "120"
            ]
          },
          "metadata": {},
          "execution_count": 21
        }
      ]
    },
    {
      "cell_type": "code",
      "source": [
        "# using ternary operator\n",
        "\n",
        "def factorial(n):\n",
        "\n",
        "  # single line to find factorial\n",
        "  return 1 if (n==0 or n==1) else n*factorial(n-1)\n",
        "\n",
        "num = 5\n",
        "print('factorial of num ', num,'is')\n",
        "factorial(num)"
      ],
      "metadata": {
        "colab": {
          "base_uri": "https://localhost:8080/"
        },
        "id": "0d9a8vgSgu4_",
        "outputId": "48cb7f3f-c42a-4bf1-8202-5c7c006310c4"
      },
      "execution_count": null,
      "outputs": [
        {
          "output_type": "stream",
          "name": "stdout",
          "text": [
            "factorial of num  5 is\n"
          ]
        },
        {
          "output_type": "execute_result",
          "data": {
            "text/plain": [
              "120"
            ]
          },
          "metadata": {},
          "execution_count": 22
        }
      ]
    },
    {
      "cell_type": "code",
      "source": [
        "# recursion approch\n",
        "def factorial(n):\n",
        "  if n ==0:\n",
        "    return 1\n",
        "\n",
        "  return n* factorial(n-1)\n",
        "\n",
        "num= 5\n",
        "factorial(num)"
      ],
      "metadata": {
        "colab": {
          "base_uri": "https://localhost:8080/"
        },
        "id": "qKC5pGcmR-AH",
        "outputId": "0d5ca9e4-fc11-496d-b4e4-f8909fda5e77"
      },
      "execution_count": null,
      "outputs": [
        {
          "output_type": "execute_result",
          "data": {
            "text/plain": [
              "120"
            ]
          },
          "metadata": {},
          "execution_count": 14
        }
      ]
    },
    {
      "cell_type": "markdown",
      "source": [
        "- factorial can also be costly for iterartively as recursion can be costly as large numbers\n",
        "- time complexity is o(n)"
      ],
      "metadata": {
        "id": "hK3gygBxe0cl"
      }
    },
    {
      "cell_type": "markdown",
      "source": [
        "# Q2) Find the area of circle\n",
        "- testcase\n",
        "- input:- any -ve integer denoting diameter\n",
        "- output:- area of circel with 2 precision point\n"
      ],
      "metadata": {
        "id": "TT6dvPp2luP2"
      }
    },
    {
      "cell_type": "code",
      "source": [
        "def area_of_circle(r):\n",
        "  PI = 3.14\n",
        "  return  PI * (r*r)\n",
        "\n",
        "# Driver method\n",
        "d = 5;\n",
        "r = d/2;\n",
        "print(\"area is %.2f\" % area_of_circle(r))\n",
        "\n",
        "# %.2f is important for test cases"
      ],
      "metadata": {
        "colab": {
          "base_uri": "https://localhost:8080/"
        },
        "id": "ytWVjqmyi8oy",
        "outputId": "ba31db16-1389-4f0e-acc2-4d948b1b3170"
      },
      "execution_count": null,
      "outputs": [
        {
          "output_type": "stream",
          "name": "stdout",
          "text": [
            "area is 19.62\n"
          ]
        }
      ]
    },
    {
      "cell_type": "markdown",
      "source": [
        "#Q3) write a program in python of GCD(greatest common deivisor) or HCF of 2 numbers\n",
        "testcase\n",
        "- input:- 2 +ve integers seprated by space\n",
        "- output:- +ve integers which is GCD of 2 numbers"
      ],
      "metadata": {
        "id": "_zc1GpU5nhiM"
      }
    },
    {
      "cell_type": "markdown",
      "source": [
        "- solution:-\n",
        "Program to find GCD or HCF of two numbers\n",
        "A simple solution is to find all prime factors of both numbers, then find\n",
        "intersection of all factors present in both numbers. Finally return product of\n",
        "elements in the intersection.\n",
        "efficientsolution is to use Euclidean algorithm which is the main algorithm\n",
        "used for this purpose. The idea is, CD of two numbers doesn't change if smaller\n",
        "number is subtracted from a bigger number."
      ],
      "metadata": {
        "id": "D5hAYdFisVuw"
      }
    },
    {
      "cell_type": "code",
      "source": [
        "def HCF(a,b):\n",
        "\n",
        "  # if everythings divides by 0 then\n",
        "  if (a == 0):\n",
        "    return b\n",
        "  if (b == 0):\n",
        "    return a\n",
        "\n",
        "  # base case\n",
        "  if (a == b):\n",
        "    return a\n",
        "\n",
        "  # if a is greater than b then it will subsrtact lower value from greater value\n",
        "  # and if b is greater then from b -a and lower value will considered\n",
        "  if a> b:\n",
        "    return HCF(a-b, b)\n",
        "  return HCF(a, b-a)\n",
        "\n",
        "\n",
        "a = 18\n",
        "b = 12\n",
        "if (HCF(a,b)):\n",
        "  print('the HCF of ',a,'and',b,'is',HCF(a,b))\n",
        "else:\n",
        "  print('not found')\n"
      ],
      "metadata": {
        "colab": {
          "base_uri": "https://localhost:8080/"
        },
        "id": "xdOO7izQnAUr",
        "outputId": "65469799-f889-431c-d422-db0804ada026"
      },
      "execution_count": null,
      "outputs": [
        {
          "output_type": "stream",
          "name": "stdout",
          "text": [
            "the HCF of  18 and 12 is 6\n"
          ]
        }
      ]
    },
    {
      "cell_type": "markdown",
      "source": [
        "- Time Complexity: O(a * b)\n",
        "- Auxiliary Space: 0(1)\n",
        "- A more efficient solution is to use modulo operator in\n",
        "  Euclidean algorithm.\n",
        "  The time complexity for this algorithm with modulo operator is O(log(max(a,b))).\n"
      ],
      "metadata": {
        "id": "GcRn8coAMud-"
      }
    },
    {
      "cell_type": "code",
      "source": [
        "# solution in recursive function\n",
        "def HCF(a,b):\n",
        "\n",
        " # if it will divided by 0 then all the values are in the 0\n",
        "  if (b == 0):\n",
        "    return a\n",
        "  return HCF(b, a%b)\n",
        "\n",
        "a = 18\n",
        "b = 12\n",
        "\n",
        "if (HCF(a,b)):\n",
        "  print('hcf of',a,'and',b,'is',HCF(a,b))\n",
        "else:\n",
        "  print('not found')\n"
      ],
      "metadata": {
        "colab": {
          "base_uri": "https://localhost:8080/"
        },
        "id": "dlI9Rpf6vIJD",
        "outputId": "c1e0c21d-4286-42ab-c269-17d9bde864da"
      },
      "execution_count": null,
      "outputs": [
        {
          "output_type": "stream",
          "name": "stdout",
          "text": [
            "hcf of 18 and 12 is 6\n"
          ]
        }
      ]
    },
    {
      "cell_type": "markdown",
      "source": [
        "# Q4) Write A program in PYTHON if number is prime or not if number is prime print number is prime and print square root of number up to two\n",
        "- decimal points precision\n",
        "- Input : a +ve integer i\n",
        "- Output : square root of number (if number is prime)\n",
        "- number is not prime (if number is not prime)\n",
        "Public Test Cases:\n",
        "Input: 5\n",
        "Output: 5 is a prime number2.24\n",
        "4:34\n",
        "Input: 22\n",
        "Output: 22 is not a prime number\n",
        "07"
      ],
      "metadata": {
        "id": "enlIbOy5Rd6P"
      }
    },
    {
      "cell_type": "code",
      "source": [
        "\n",
        "from math import sqrt\n",
        "\n",
        "def find_prime(num):\n",
        "  if num%2 !=0 and num/num == 1:\n",
        "    return round(sqrt(num),3)\n",
        "    print('this number are prime numbers')\n",
        "  else:\n",
        "    print('this number are not prime numbers')\n",
        "\n",
        "\n",
        "num = 15\n",
        "find_prime(num)\n"
      ],
      "metadata": {
        "colab": {
          "base_uri": "https://localhost:8080/"
        },
        "id": "Yuor89FzQnwq",
        "outputId": "0521df57-9d12-4c7a-8145-09a967b658fd"
      },
      "execution_count": null,
      "outputs": [
        {
          "output_type": "execute_result",
          "data": {
            "text/plain": [
              "3.873"
            ]
          },
          "metadata": {},
          "execution_count": 33
        }
      ]
    },
    {
      "cell_type": "code",
      "source": [
        "import math\n",
        "# To take input from the user\n",
        "num = int(input( \"Enter a number: \"))\n",
        "\n",
        "# define a flag variable\n",
        "flag = False\n",
        "if num == 1:\n",
        "  flag = True\n",
        "else:\n",
        "\n",
        "# prime numbers are greater than 1\n",
        "  if num > 1:\n",
        "# check for factors\n",
        "    for i in range (2, num):\n",
        "      if (num % i) == 0:\n",
        "# if factor is found, set flag to True\n",
        "        flag = True\n",
        "# break out of loop\n",
        "        break\n",
        "\n",
        "# check if flag is True\n",
        "if flag:\n",
        "  print(num, \"is not a prime number\")\n",
        "else:\n",
        "  print(num, \"is a prime number\")"
      ],
      "metadata": {
        "colab": {
          "base_uri": "https://localhost:8080/"
        },
        "id": "dYRLgWR4VxWP",
        "outputId": "ba043737-b5d3-4e33-f798-c64e3b30a42e"
      },
      "execution_count": null,
      "outputs": [
        {
          "output_type": "stream",
          "name": "stdout",
          "text": [
            "enter the numbers:15\n",
            "Enter a number: 15\n",
            "15 is not a prime number\n"
          ]
        }
      ]
    },
    {
      "cell_type": "markdown",
      "source": [
        "Note: We can improve our program by decreasing the range of numbers where\n",
        "we look for factors.\n",
        "In the above program, our search range is from 2 to num - 1.\n",
        "We could have used the range, range(2,num/2) or\n",
        "range(2, math. floor(math.sqrt(num)+1)). The latter range iS bäsed n the fact\n",
        "that a composite number must have a factor less than or equal to the sauare\n",
        "root of that number. Otherwise, the number is prime."
      ],
      "metadata": {
        "id": "NGV8ObyFZ3lF"
      }
    },
    {
      "cell_type": "code",
      "source": [
        "# recursion technique\n",
        "import math\n",
        "# Function check whether a number\n",
        "# is prime or not\n",
        "def isPrime(n, i):\n",
        "# Corner cases\n",
        "  if (n == 0 or n == 1):\n",
        "    return False\n",
        "# Checking Prime\n",
        "  if (n == i):\n",
        "    return True\n",
        "# Base cases\n",
        "  if (n % i == 0):\n",
        "    return False\n",
        "    i += 1\n",
        "\n",
        "  return isPrime (n, 1)\n",
        "\n",
        "# Driver Code\n",
        "# To take input from the user\n",
        "num = int (input(\"Enter number to be checked: \"))\n",
        "if (isPrime (num, 2)):\n",
        "  print(num, \"is a prime number\")\n",
        "  print(\"Square root is %.2f\" % math. sqrt (num))\n",
        "# %.2f is used to round of the\n",
        "# output to 2 decimal places\n",
        "else:\n",
        "  print (num, \"is not a prime number\")\n"
      ],
      "metadata": {
        "colab": {
          "base_uri": "https://localhost:8080/"
        },
        "id": "HttpOXwYZj9x",
        "outputId": "90776785-7788-4697-94bd-583530b9b5a2"
      },
      "execution_count": null,
      "outputs": [
        {
          "output_type": "stream",
          "name": "stdout",
          "text": [
            "Enter number to be checked: 13\n",
            "13 is not a prime number\n"
          ]
        }
      ]
    },
    {
      "cell_type": "code",
      "source": [
        "# we have to work upon it to be continue tommarrow\n",
        "\n"
      ],
      "metadata": {
        "id": "bwq6fFTca91U"
      },
      "execution_count": null,
      "outputs": []
    },
    {
      "cell_type": "markdown",
      "source": [
        "# Q5) Program to print all prime numbers within a given range Given two numbers a and b as interval range, the task is to find the prime\n",
        "numbers in between this interval.\n",
        "Examples:\n",
        "Input : a = 1, b = 10\n",
        "Output : 2, 3, 5, 7\n",
        "Input: a = 11, b = 19\n",
        "Output : 11, 13, 17, 19"
      ],
      "metadata": {
        "id": "DBGz4Uk-tyLg"
      }
    },
    {
      "cell_type": "code",
      "source": [
        "if __name__== '__main__':\n",
        "  a,b,i,j,flag = 0,0,0,0,0\n",
        "  print('enter the lower value of the interval:',end =\"\")\n",
        "  a=int(input())\n",
        "\n",
        "  print('enter the higher value interval:',end=\"\")\n",
        "  b =int(input())\n",
        "\n",
        "  print('prime number between',a, 'and' ,b,'are:',end = '')\n",
        "\n",
        "  # before that consider the values because 1 is not the composite and not the prime number\n",
        "   # i am taking flag to know if the number will prime then it will true\n",
        "\n",
        "\n",
        "\n",
        "  # run the loop\n",
        "  for i in range(a, b+1):\n",
        "    if (i==1):\n",
        "      continue # skip to 1\n",
        "\n",
        "    flag = 1\n",
        "\n",
        "    for j in range(2, i//2+1):\n",
        "      if (i%j ==0):\n",
        "        flag = 0\n",
        "        break\n",
        "\n",
        "# if still flag ==1 is true then print all the prime numbers\n",
        "    if (flag == 1):\n",
        "      print(i,end =\" \")\n",
        "\n",
        "\n"
      ],
      "metadata": {
        "colab": {
          "base_uri": "https://localhost:8080/"
        },
        "id": "MJenCTYJt9iq",
        "outputId": "88c817e6-ac71-4530-b4f2-318b2d7253e3"
      },
      "execution_count": null,
      "outputs": [
        {
          "output_type": "stream",
          "name": "stdout",
          "text": [
            "enter the lower value of the interval:1\n",
            "enter the higher value interval:5\n",
            "prime number between 1 and 5 are:2 3 5 "
          ]
        }
      ]
    },
    {
      "cell_type": "code",
      "source": [
        "# by creating a function\n",
        "def is_prime(num):\n",
        "    if num <= 1:\n",
        "        return False\n",
        "    for i in range(2, int(num**0.5) + 1):\n",
        "        if num % i == 0:\n",
        "            return False\n",
        "    return True\n",
        "\n",
        "if __name__ == '__main__':\n",
        "    a, b = 0, 0\n",
        "\n",
        "    print('Enter the lower value of the interval:', end=\"\")\n",
        "    a = int(input())\n",
        "\n",
        "    print('Enter the higher value interval:', end=\"\")\n",
        "    b = int(input())\n",
        "\n",
        "    print('Prime numbers between', a, 'and', b, 'are:', end=' ')\n",
        "\n",
        "    for i in range(a, b + 1):\n",
        "        if is_prime(i):\n",
        "            print(i, end=\" \")\n"
      ],
      "metadata": {
        "colab": {
          "base_uri": "https://localhost:8080/"
        },
        "id": "c2Yzgcl14PgV",
        "outputId": "3fc7a55e-908a-488f-9989-195b5ad1cd04"
      },
      "execution_count": null,
      "outputs": [
        {
          "output_type": "stream",
          "name": "stdout",
          "text": [
            "Enter the lower value of the interval:2\n",
            "Enter the higher value interval:88\n",
            "Prime numbers between 2 and 88 are: 2 3 5 7 11 13 17 19 23 29 31 37 41 43 47 53 59 61 67 71 73 79 83 "
          ]
        }
      ]
    },
    {
      "cell_type": "markdown",
      "source": [
        "#Q6) Program to print sum of all prime numbers within a given range\n",
        "Given two numbers a and b as interval range, the task is to find the sum of all\n",
        "prime numbers in between this interval.\n",
        "Examples:\n",
        "Input! 9599,983410\n",
        "Output : 17 (2 + 3 + 5 + 7)\n",
        "Input : a = 11, b = 19\n",
        "Output : 60 (11 + 13 + 17 + 19)"
      ],
      "metadata": {
        "id": "NwQmuKIEKYQE"
      }
    },
    {
      "cell_type": "code",
      "source": [
        "# lets do the sum of all prime number\n",
        "\n",
        "if __name__ == '__main__':\n",
        "  # create vairable\n",
        "  a,b,i,j,sum = 0,0,0,0,0\n",
        "\n",
        "  print('enter the staring value:', end= '')\n",
        "  a = int(input())\n",
        "\n",
        "  print('enter the ending value:', end= '')\n",
        "  b = int(input())\n",
        "\n",
        "  print('the value of a:',a,'and',b,'ar:', end = '')\n",
        "\n",
        "  for i in range(a,b+1):\n",
        "    if (i == 1):\n",
        "      continue\n",
        "\n",
        "    flag = 1\n",
        "\n",
        "    for j in range(2,i//2+1):\n",
        "      if (i%j == 0):\n",
        "        flag = 0\n",
        "        break\n",
        "\n",
        "    if flag == 1:\n",
        "      sum = sum + i\n",
        "print(sum, end =\"\")"
      ],
      "metadata": {
        "colab": {
          "base_uri": "https://localhost:8080/"
        },
        "id": "byDXqHnr5XyT",
        "outputId": "9ce64aff-8aca-4743-9161-9aa9c175b2fc"
      },
      "execution_count": null,
      "outputs": [
        {
          "output_type": "stream",
          "name": "stdout",
          "text": [
            "enter the staring value:1\n",
            "enter the ending value:5\n",
            "the value of a: 1 and 5 ar:10"
          ]
        }
      ]
    },
    {
      "cell_type": "markdown",
      "source": [
        "# Q7) Program to Find the Largest Number Among Three Numbers (All three numbers distinct)\n",
        "\n",
        "- Given three numbers A, B and C;\n",
        "- The task is to find the largest number among the\n",
        "three.\n",
        "- Examples:\n",
        "- Input: A = 3, B = 7, C = 4\n",
        "- Output: Maximum Value = 7\n",
        "- Input: A = 24, B = 40641, C = 325\n",
        "- Output: Maxinum Value - 40541\n",
        "1\n",
        "∞ 9.\n",
        "@"
      ],
      "metadata": {
        "id": "alai6NqvbtWq"
      }
    },
    {
      "cell_type": "markdown",
      "source": [
        "##method1"
      ],
      "metadata": {
        "id": "wMHyyyErg6mi"
      }
    },
    {
      "cell_type": "code",
      "source": [
        "a = int(input())\n",
        "b = int(input())\n",
        "c = int(input())\n",
        "\n",
        "print('maximun  value of numbers are:',max(a,b,c))"
      ],
      "metadata": {
        "colab": {
          "base_uri": "https://localhost:8080/"
        },
        "id": "Aezq9f3Xc2VZ",
        "outputId": "81b2246e-f661-425d-be3d-5a00a0def04e"
      },
      "execution_count": null,
      "outputs": [
        {
          "output_type": "stream",
          "name": "stdout",
          "text": [
            "2\n",
            "5\n",
            "6\n",
            "maximun  value of numbers are: 6\n"
          ]
        }
      ]
    },
    {
      "cell_type": "markdown",
      "source": [
        "###method2"
      ],
      "metadata": {
        "id": "uYGo-KIgg8z6"
      }
    },
    {
      "cell_type": "code",
      "source": [
        "# now what we will do we can solve by traditional method\n",
        "def maximum(a,b,c):\n",
        "  if (a>=b) and (a>=c):\n",
        "    largest = a\n",
        "  elif (b>=a) and (b>=c):\n",
        "    largest = b\n",
        "  else:\n",
        "    largest = c\n",
        "  return largest\n",
        "\n",
        "\n",
        "a = int(input())\n",
        "b = int(input())\n",
        "c = int(input())\n",
        "\n",
        "print('maximum value is', maximum(a,b,c))\n",
        "\n"
      ],
      "metadata": {
        "colab": {
          "base_uri": "https://localhost:8080/"
        },
        "id": "6s5EIoZse1YX",
        "outputId": "a2baef26-2898-4058-d361-3a34833312e8"
      },
      "execution_count": null,
      "outputs": [
        {
          "output_type": "stream",
          "name": "stdout",
          "text": [
            "5\n",
            "2\n",
            "6\n",
            "maximum value is 6\n"
          ]
        }
      ]
    },
    {
      "cell_type": "markdown",
      "source": [
        "#Q8) Program to Find the Smallest Number Among Four Numbers (All four numbers distinct)\n",
        "- Given four numbers A, B, C & D. The task is to find the smallest number among\n",
        "the four.\n",
        "- Examples:\n",
        "- Input: A = 3, B = 7, C = 4, D = 2\n",
        "- Output: Minimum Value = 2\n",
        "- Input: A = 325, B = 40641, C = 24, D = 2544\n",
        "Output: Minimum Value = 24"
      ],
      "metadata": {
        "id": "DbkzTRE4hSVT"
      }
    },
    {
      "cell_type": "markdown",
      "source": [
        "### Method1"
      ],
      "metadata": {
        "id": "sw2gm2Wghggv"
      }
    },
    {
      "cell_type": "code",
      "source": [
        "a = int(input('enter the input:'))\n",
        "b = int(input('enter the input:'))\n",
        "c = int(input('enter the input:'))\n",
        "\n",
        "print('minimum number is', min(a,b,c))"
      ],
      "metadata": {
        "colab": {
          "base_uri": "https://localhost:8080/"
        },
        "id": "iCrfAH4mgHJu",
        "outputId": "516b9241-bccb-4430-c346-61c78d9700eb"
      },
      "execution_count": null,
      "outputs": [
        {
          "output_type": "stream",
          "name": "stdout",
          "text": [
            "enter the input:5\n",
            "enter the input:9\n",
            "enter the input:8\n",
            "minimum number is 5\n"
          ]
        }
      ]
    },
    {
      "cell_type": "markdown",
      "source": [
        "#Methods2"
      ],
      "metadata": {
        "id": "yl_32wOTiXeV"
      }
    },
    {
      "cell_type": "code",
      "source": [
        "def minimum(a,b,c):\n",
        "  if (c >= a) and (b >= a):\n",
        "    lowest = a\n",
        "  elif (c >= b) and (a >= b):\n",
        "    lowest = b\n",
        "  else:\n",
        "    lowest = c\n",
        "  return lowest\n",
        "\n",
        "\n",
        "a = int(input('enter the input:'))\n",
        "b = int(input('enter the input:'))\n",
        "c = int(input('enter the input:'))\n",
        "\n",
        "print('minimum number is', minimum(a,b,c))"
      ],
      "metadata": {
        "colab": {
          "base_uri": "https://localhost:8080/"
        },
        "id": "hCfDZ2rPiTE9",
        "outputId": "6590f0e4-03a9-4e17-c689-7115efd99345"
      },
      "execution_count": null,
      "outputs": [
        {
          "output_type": "stream",
          "name": "stdout",
          "text": [
            "enter the input:5\n",
            "enter the input:6\n",
            "enter the input:45\n",
            "minimum number is 5\n"
          ]
        }
      ]
    },
    {
      "cell_type": "markdown",
      "source": [
        "#Q9) Find the second largest numbers of 3 numbers\n",
        "\n",
        "Input : three integers separated by space denoting the numbers to be compared\n",
        "to find second largest number\n",
        "Output: second largest number out of the three given numbers\n",
        "Public Test Case:\n",
        "\n",
        "Input: -4 0 4\n",
        "Output: 0\n",
        "Input: 101 101 98\n",
        "Qutput: 101\n"
      ],
      "metadata": {
        "id": "I7_XlfvNqFxK"
      }
    },
    {
      "cell_type": "code",
      "source": [
        "def second_largest(a, b, c):\n",
        "    if a >= b and a >= c:\n",
        "        if b >= c:\n",
        "            return b\n",
        "        else:\n",
        "            return c\n",
        "    elif b >= a and b >= c:\n",
        "        if a >= c:\n",
        "            return a\n",
        "        else:\n",
        "            return c\n",
        "    else:\n",
        "        if a >= b:\n",
        "            return a\n",
        "        else:\n",
        "            return b\n",
        "\n",
        "a = int(input('Enter the first number: '))\n",
        "b = int(input('Enter the second number: '))\n",
        "c = int(input('Enter the third number: '))\n",
        "\n",
        "second_largest_num = second_largest(a, b, c)\n",
        "print('The second largest number is', second_largest_num)\n"
      ],
      "metadata": {
        "colab": {
          "base_uri": "https://localhost:8080/"
        },
        "id": "hB-a5TUGlIin",
        "outputId": "2243d7e9-5304-4153-f4fb-90c394673bf1"
      },
      "execution_count": null,
      "outputs": [
        {
          "output_type": "stream",
          "name": "stdout",
          "text": [
            "Enter the first number: 51\n",
            "Enter the second number: 42\n",
            "Enter the third number: 32\n",
            "The second largest number is 42\n"
          ]
        }
      ]
    },
    {
      "cell_type": "code",
      "source": [],
      "metadata": {
        "id": "JsU6Rmk7qifd"
      },
      "execution_count": null,
      "outputs": []
    }
  ]
}